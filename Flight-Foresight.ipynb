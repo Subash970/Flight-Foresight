{
 "cells": [
  {
   "cell_type": "code",
   "execution_count": 3,
   "id": "de74d5b6-73c7-497b-8c8a-2c5c2fd128f9",
   "metadata": {},
   "outputs": [],
   "source": [
    "import numpy as np\n",
    "import pandas as pd\n",
    "import matplotlib.pyplot as plt\n",
    "%matplotlib inline"
   ]
  },
  {
   "cell_type": "code",
   "execution_count": 4,
   "id": "1eb3667e-ff68-46a9-ae45-979157da128e",
   "metadata": {},
   "outputs": [],
   "source": [
    "df = pd.read_csv(\"csv-files/flight_delays.csv\" , low_memory=False)"
   ]
  },
  {
   "cell_type": "code",
   "execution_count": 5,
   "id": "e118474c-0c5a-4b6a-9f8b-a31dff75fbc1",
   "metadata": {},
   "outputs": [],
   "source": [
    "pd.set_option('display.max_columns', None)"
   ]
  },
  {
   "cell_type": "code",
   "execution_count": 6,
   "id": "cf6cffaf-ba8a-4d34-9c7a-307fbb787a53",
   "metadata": {},
   "outputs": [],
   "source": [
    "#convert data type into string\n",
    "\n",
    "for column in ['DelayMinutes' , 'DelayReason']:\n",
    "    df[column] = df[column].astype(str)"
   ]
  },
  {
   "cell_type": "code",
   "execution_count": 7,
   "id": "57c8113a-7ffd-467d-92b2-63868255e649",
   "metadata": {},
   "outputs": [],
   "source": [
    "#drop the FLightID column permenantly\n",
    "\n",
    "df.drop(\"FlightID\" , axis = 1 , inplace=True)"
   ]
  },
  {
   "cell_type": "code",
   "execution_count": 8,
   "id": "a08d8eed-e06f-4e50-8e5c-80059aa868b1",
   "metadata": {
    "scrolled": true
   },
   "outputs": [
    {
     "data": {
      "text/html": [
       "<div>\n",
       "<style scoped>\n",
       "    .dataframe tbody tr th:only-of-type {\n",
       "        vertical-align: middle;\n",
       "    }\n",
       "\n",
       "    .dataframe tbody tr th {\n",
       "        vertical-align: top;\n",
       "    }\n",
       "\n",
       "    .dataframe thead th {\n",
       "        text-align: right;\n",
       "    }\n",
       "</style>\n",
       "<table border=\"1\" class=\"dataframe\">\n",
       "  <thead>\n",
       "    <tr style=\"text-align: right;\">\n",
       "      <th></th>\n",
       "      <th>Airline</th>\n",
       "      <th>FlightNumber</th>\n",
       "      <th>Origin</th>\n",
       "      <th>Destination</th>\n",
       "      <th>ScheduledDeparture</th>\n",
       "      <th>ActualDeparture</th>\n",
       "      <th>ScheduledArrival</th>\n",
       "      <th>ActualArrival</th>\n",
       "      <th>DelayMinutes</th>\n",
       "      <th>DelayReason</th>\n",
       "      <th>Cancelled</th>\n",
       "      <th>Diverted</th>\n",
       "      <th>AircraftType</th>\n",
       "      <th>TailNumber</th>\n",
       "      <th>Distance</th>\n",
       "    </tr>\n",
       "  </thead>\n",
       "  <tbody>\n",
       "    <tr>\n",
       "      <th>0</th>\n",
       "      <td>United</td>\n",
       "      <td>4558</td>\n",
       "      <td>ORD</td>\n",
       "      <td>MIA</td>\n",
       "      <td>2024-09-01 08:11</td>\n",
       "      <td>2024-09-01 08:30</td>\n",
       "      <td>2024-09-01 12:11</td>\n",
       "      <td>2024-09-01 12:19</td>\n",
       "      <td>8.0</td>\n",
       "      <td>Weather</td>\n",
       "      <td>True</td>\n",
       "      <td>False</td>\n",
       "      <td>Boeing 737</td>\n",
       "      <td>N71066</td>\n",
       "      <td>1031.0</td>\n",
       "    </tr>\n",
       "    <tr>\n",
       "      <th>1</th>\n",
       "      <td>Delta</td>\n",
       "      <td>8021</td>\n",
       "      <td>LAX</td>\n",
       "      <td>MIA</td>\n",
       "      <td>2024-09-01 10:25</td>\n",
       "      <td>2024-09-01 10:41</td>\n",
       "      <td>2024-09-01 13:25</td>\n",
       "      <td>2024-09-01 13:27</td>\n",
       "      <td>2.0</td>\n",
       "      <td>Air Traffic Control</td>\n",
       "      <td>True</td>\n",
       "      <td>True</td>\n",
       "      <td>Airbus A320</td>\n",
       "      <td>N22657</td>\n",
       "      <td>1006.0</td>\n",
       "    </tr>\n",
       "    <tr>\n",
       "      <th>2</th>\n",
       "      <td>Southwest</td>\n",
       "      <td>7520</td>\n",
       "      <td>DFW</td>\n",
       "      <td>SFO</td>\n",
       "      <td>2024-09-01 16:53</td>\n",
       "      <td>2024-09-01 17:05</td>\n",
       "      <td>2024-09-01 17:53</td>\n",
       "      <td>2024-09-01 18:07</td>\n",
       "      <td>14.0</td>\n",
       "      <td>Weather</td>\n",
       "      <td>True</td>\n",
       "      <td>True</td>\n",
       "      <td>Boeing 737</td>\n",
       "      <td>N95611</td>\n",
       "      <td>2980.0</td>\n",
       "    </tr>\n",
       "    <tr>\n",
       "      <th>3</th>\n",
       "      <td>Delta</td>\n",
       "      <td>2046</td>\n",
       "      <td>ORD</td>\n",
       "      <td>BOS</td>\n",
       "      <td>2024-09-01 14:44</td>\n",
       "      <td>2024-09-01 15:04</td>\n",
       "      <td>2024-09-01 18:44</td>\n",
       "      <td>2024-09-01 18:34</td>\n",
       "      <td>-10.0</td>\n",
       "      <td>nan</td>\n",
       "      <td>False</td>\n",
       "      <td>False</td>\n",
       "      <td>Boeing 777</td>\n",
       "      <td>N90029</td>\n",
       "      <td>1408.0</td>\n",
       "    </tr>\n",
       "    <tr>\n",
       "      <th>4</th>\n",
       "      <td>Delta</td>\n",
       "      <td>6049</td>\n",
       "      <td>LAX</td>\n",
       "      <td>SEA</td>\n",
       "      <td>2024-09-01 01:51</td>\n",
       "      <td>2024-09-01 02:08</td>\n",
       "      <td>2024-09-01 05:51</td>\n",
       "      <td>2024-09-01 06:15</td>\n",
       "      <td>24.0</td>\n",
       "      <td>Air Traffic Control</td>\n",
       "      <td>False</td>\n",
       "      <td>True</td>\n",
       "      <td>Boeing 737</td>\n",
       "      <td>N27417</td>\n",
       "      <td>2298.0</td>\n",
       "    </tr>\n",
       "  </tbody>\n",
       "</table>\n",
       "</div>"
      ],
      "text/plain": [
       "     Airline  FlightNumber Origin Destination ScheduledDeparture  \\\n",
       "0     United          4558    ORD         MIA   2024-09-01 08:11   \n",
       "1      Delta          8021    LAX         MIA   2024-09-01 10:25   \n",
       "2  Southwest          7520    DFW         SFO   2024-09-01 16:53   \n",
       "3      Delta          2046    ORD         BOS   2024-09-01 14:44   \n",
       "4      Delta          6049    LAX         SEA   2024-09-01 01:51   \n",
       "\n",
       "    ActualDeparture  ScheduledArrival     ActualArrival DelayMinutes  \\\n",
       "0  2024-09-01 08:30  2024-09-01 12:11  2024-09-01 12:19          8.0   \n",
       "1  2024-09-01 10:41  2024-09-01 13:25  2024-09-01 13:27          2.0   \n",
       "2  2024-09-01 17:05  2024-09-01 17:53  2024-09-01 18:07         14.0   \n",
       "3  2024-09-01 15:04  2024-09-01 18:44  2024-09-01 18:34        -10.0   \n",
       "4  2024-09-01 02:08  2024-09-01 05:51  2024-09-01 06:15         24.0   \n",
       "\n",
       "           DelayReason Cancelled Diverted AircraftType TailNumber  Distance  \n",
       "0              Weather      True    False   Boeing 737     N71066    1031.0  \n",
       "1  Air Traffic Control      True     True  Airbus A320     N22657    1006.0  \n",
       "2              Weather      True     True   Boeing 737     N95611    2980.0  \n",
       "3                  nan     False    False   Boeing 777     N90029    1408.0  \n",
       "4  Air Traffic Control     False     True   Boeing 737     N27417    2298.0  "
      ]
     },
     "execution_count": 8,
     "metadata": {},
     "output_type": "execute_result"
    }
   ],
   "source": [
    "df.head()"
   ]
  },
  {
   "cell_type": "code",
   "execution_count": 9,
   "id": "f5017f76-d718-4363-ae65-5b4764bb3c18",
   "metadata": {},
   "outputs": [
    {
     "data": {
      "text/plain": [
       "(724945, 15)"
      ]
     },
     "execution_count": 9,
     "metadata": {},
     "output_type": "execute_result"
    }
   ],
   "source": [
    "#shape of the dataset\n",
    "\n",
    "df.shape"
   ]
  },
  {
   "cell_type": "code",
   "execution_count": 10,
   "id": "bfe5c9ae-b873-44b0-90f2-fcbd11e6102e",
   "metadata": {},
   "outputs": [
    {
     "name": "stdout",
     "output_type": "stream",
     "text": [
      "<class 'pandas.core.frame.DataFrame'>\n",
      "RangeIndex: 724945 entries, 0 to 724944\n",
      "Data columns (total 15 columns):\n",
      " #   Column              Non-Null Count   Dtype  \n",
      "---  ------              --------------   -----  \n",
      " 0   Airline             724945 non-null  object \n",
      " 1   FlightNumber        724945 non-null  int64  \n",
      " 2   Origin              724945 non-null  object \n",
      " 3   Destination         724945 non-null  object \n",
      " 4   ScheduledDeparture  724945 non-null  object \n",
      " 5   ActualDeparture     724945 non-null  object \n",
      " 6   ScheduledArrival    724945 non-null  object \n",
      " 7   ActualArrival       724944 non-null  object \n",
      " 8   DelayMinutes        724945 non-null  object \n",
      " 9   DelayReason         724945 non-null  object \n",
      " 10  Cancelled           724944 non-null  object \n",
      " 11  Diverted            724944 non-null  object \n",
      " 12  AircraftType        724944 non-null  object \n",
      " 13  TailNumber          724944 non-null  object \n",
      " 14  Distance            724944 non-null  float64\n",
      "dtypes: float64(1), int64(1), object(13)\n",
      "memory usage: 83.0+ MB\n"
     ]
    }
   ],
   "source": [
    "#information about the dataset\n",
    "\n",
    "df.info()"
   ]
  },
  {
   "cell_type": "code",
   "execution_count": 11,
   "id": "a308b074-142f-4a76-b843-2220fd01d942",
   "metadata": {},
   "outputs": [
    {
     "data": {
      "text/plain": [
       "Airline               0\n",
       "FlightNumber          0\n",
       "Origin                0\n",
       "Destination           0\n",
       "ScheduledDeparture    0\n",
       "ActualDeparture       0\n",
       "ScheduledArrival      0\n",
       "ActualArrival         1\n",
       "DelayMinutes          0\n",
       "DelayReason           0\n",
       "Cancelled             1\n",
       "Diverted              1\n",
       "AircraftType          1\n",
       "TailNumber            1\n",
       "Distance              1\n",
       "dtype: int64"
      ]
     },
     "execution_count": 11,
     "metadata": {},
     "output_type": "execute_result"
    }
   ],
   "source": [
    "#checking null values\n",
    "\n",
    "df.isnull().sum()"
   ]
  },
  {
   "cell_type": "code",
   "execution_count": 12,
   "id": "9246acb2-773b-461e-89e5-2d768fd2e156",
   "metadata": {},
   "outputs": [
    {
     "name": "stdout",
     "output_type": "stream",
     "text": [
      "Null values dropped\n"
     ]
    }
   ],
   "source": [
    "df = df.dropna()\n",
    "\n",
    "print(\"Null values dropped\")"
   ]
  },
  {
   "cell_type": "code",
   "execution_count": 13,
   "id": "eb934d87-947e-415e-83e4-50f8bdf10d45",
   "metadata": {},
   "outputs": [
    {
     "data": {
      "text/plain": [
       "Airline               0\n",
       "FlightNumber          0\n",
       "Origin                0\n",
       "Destination           0\n",
       "ScheduledDeparture    0\n",
       "ActualDeparture       0\n",
       "ScheduledArrival      0\n",
       "ActualArrival         0\n",
       "DelayMinutes          0\n",
       "DelayReason           0\n",
       "Cancelled             0\n",
       "Diverted              0\n",
       "AircraftType          0\n",
       "TailNumber            0\n",
       "Distance              0\n",
       "dtype: int64"
      ]
     },
     "execution_count": 13,
     "metadata": {},
     "output_type": "execute_result"
    }
   ],
   "source": [
    "df.isnull().sum()"
   ]
  },
  {
   "cell_type": "code",
   "execution_count": 14,
   "id": "e2a0a89f-3e2c-4caf-af93-903ae9192e14",
   "metadata": {},
   "outputs": [],
   "source": [
    "#convert object columns into integer values\n",
    "\n",
    "from sklearn.preprocessing import LabelEncoder\n",
    "\n",
    "encoder = LabelEncoder()\n",
    "\n",
    "object_columns = ['Airline' , 'Origin' , 'Destination' , 'DelayReason' , 'Cancelled' , 'Diverted' , 'AircraftType']\n",
    "\n",
    "for column in object_columns:\n",
    "    df[column] = encoder.fit_transform(df[column])"
   ]
  },
  {
   "cell_type": "code",
   "execution_count": 15,
   "id": "51dce654-8f97-4e48-9244-ce9f2b4164be",
   "metadata": {},
   "outputs": [
    {
     "data": {
      "text/html": [
       "<div>\n",
       "<style scoped>\n",
       "    .dataframe tbody tr th:only-of-type {\n",
       "        vertical-align: middle;\n",
       "    }\n",
       "\n",
       "    .dataframe tbody tr th {\n",
       "        vertical-align: top;\n",
       "    }\n",
       "\n",
       "    .dataframe thead th {\n",
       "        text-align: right;\n",
       "    }\n",
       "</style>\n",
       "<table border=\"1\" class=\"dataframe\">\n",
       "  <thead>\n",
       "    <tr style=\"text-align: right;\">\n",
       "      <th></th>\n",
       "      <th>Airline</th>\n",
       "      <th>FlightNumber</th>\n",
       "      <th>Origin</th>\n",
       "      <th>Destination</th>\n",
       "      <th>ScheduledDeparture</th>\n",
       "      <th>ActualDeparture</th>\n",
       "      <th>ScheduledArrival</th>\n",
       "      <th>ActualArrival</th>\n",
       "      <th>DelayMinutes</th>\n",
       "      <th>DelayReason</th>\n",
       "      <th>Cancelled</th>\n",
       "      <th>Diverted</th>\n",
       "      <th>AircraftType</th>\n",
       "      <th>TailNumber</th>\n",
       "      <th>Distance</th>\n",
       "    </tr>\n",
       "  </thead>\n",
       "  <tbody>\n",
       "    <tr>\n",
       "      <th>0</th>\n",
       "      <td>3</td>\n",
       "      <td>4558</td>\n",
       "      <td>4</td>\n",
       "      <td>2</td>\n",
       "      <td>2024-09-01 08:11</td>\n",
       "      <td>2024-09-01 08:30</td>\n",
       "      <td>2024-09-01 12:11</td>\n",
       "      <td>2024-09-01 12:19</td>\n",
       "      <td>8.0</td>\n",
       "      <td>2</td>\n",
       "      <td>1</td>\n",
       "      <td>0</td>\n",
       "      <td>1</td>\n",
       "      <td>N71066</td>\n",
       "      <td>1031.0</td>\n",
       "    </tr>\n",
       "    <tr>\n",
       "      <th>1</th>\n",
       "      <td>1</td>\n",
       "      <td>8021</td>\n",
       "      <td>3</td>\n",
       "      <td>2</td>\n",
       "      <td>2024-09-01 10:25</td>\n",
       "      <td>2024-09-01 10:41</td>\n",
       "      <td>2024-09-01 13:25</td>\n",
       "      <td>2024-09-01 13:27</td>\n",
       "      <td>2.0</td>\n",
       "      <td>0</td>\n",
       "      <td>1</td>\n",
       "      <td>1</td>\n",
       "      <td>0</td>\n",
       "      <td>N22657</td>\n",
       "      <td>1006.0</td>\n",
       "    </tr>\n",
       "    <tr>\n",
       "      <th>2</th>\n",
       "      <td>2</td>\n",
       "      <td>7520</td>\n",
       "      <td>1</td>\n",
       "      <td>4</td>\n",
       "      <td>2024-09-01 16:53</td>\n",
       "      <td>2024-09-01 17:05</td>\n",
       "      <td>2024-09-01 17:53</td>\n",
       "      <td>2024-09-01 18:07</td>\n",
       "      <td>14.0</td>\n",
       "      <td>2</td>\n",
       "      <td>1</td>\n",
       "      <td>1</td>\n",
       "      <td>1</td>\n",
       "      <td>N95611</td>\n",
       "      <td>2980.0</td>\n",
       "    </tr>\n",
       "    <tr>\n",
       "      <th>3</th>\n",
       "      <td>1</td>\n",
       "      <td>2046</td>\n",
       "      <td>4</td>\n",
       "      <td>0</td>\n",
       "      <td>2024-09-01 14:44</td>\n",
       "      <td>2024-09-01 15:04</td>\n",
       "      <td>2024-09-01 18:44</td>\n",
       "      <td>2024-09-01 18:34</td>\n",
       "      <td>-10.0</td>\n",
       "      <td>3</td>\n",
       "      <td>0</td>\n",
       "      <td>0</td>\n",
       "      <td>2</td>\n",
       "      <td>N90029</td>\n",
       "      <td>1408.0</td>\n",
       "    </tr>\n",
       "    <tr>\n",
       "      <th>4</th>\n",
       "      <td>1</td>\n",
       "      <td>6049</td>\n",
       "      <td>3</td>\n",
       "      <td>3</td>\n",
       "      <td>2024-09-01 01:51</td>\n",
       "      <td>2024-09-01 02:08</td>\n",
       "      <td>2024-09-01 05:51</td>\n",
       "      <td>2024-09-01 06:15</td>\n",
       "      <td>24.0</td>\n",
       "      <td>0</td>\n",
       "      <td>0</td>\n",
       "      <td>1</td>\n",
       "      <td>1</td>\n",
       "      <td>N27417</td>\n",
       "      <td>2298.0</td>\n",
       "    </tr>\n",
       "  </tbody>\n",
       "</table>\n",
       "</div>"
      ],
      "text/plain": [
       "   Airline  FlightNumber  Origin  Destination ScheduledDeparture  \\\n",
       "0        3          4558       4            2   2024-09-01 08:11   \n",
       "1        1          8021       3            2   2024-09-01 10:25   \n",
       "2        2          7520       1            4   2024-09-01 16:53   \n",
       "3        1          2046       4            0   2024-09-01 14:44   \n",
       "4        1          6049       3            3   2024-09-01 01:51   \n",
       "\n",
       "    ActualDeparture  ScheduledArrival     ActualArrival DelayMinutes  \\\n",
       "0  2024-09-01 08:30  2024-09-01 12:11  2024-09-01 12:19          8.0   \n",
       "1  2024-09-01 10:41  2024-09-01 13:25  2024-09-01 13:27          2.0   \n",
       "2  2024-09-01 17:05  2024-09-01 17:53  2024-09-01 18:07         14.0   \n",
       "3  2024-09-01 15:04  2024-09-01 18:44  2024-09-01 18:34        -10.0   \n",
       "4  2024-09-01 02:08  2024-09-01 05:51  2024-09-01 06:15         24.0   \n",
       "\n",
       "   DelayReason  Cancelled  Diverted  AircraftType TailNumber  Distance  \n",
       "0            2          1         0             1     N71066    1031.0  \n",
       "1            0          1         1             0     N22657    1006.0  \n",
       "2            2          1         1             1     N95611    2980.0  \n",
       "3            3          0         0             2     N90029    1408.0  \n",
       "4            0          0         1             1     N27417    2298.0  "
      ]
     },
     "execution_count": 15,
     "metadata": {},
     "output_type": "execute_result"
    }
   ],
   "source": [
    "df.head()"
   ]
  },
  {
   "cell_type": "code",
   "execution_count": 16,
   "id": "b6f2486b-6923-4dc7-8d50-a0b64f18535c",
   "metadata": {},
   "outputs": [
    {
     "name": "stdout",
     "output_type": "stream",
     "text": [
      "shell executed!\n"
     ]
    }
   ],
   "source": [
    "#slice date in datetime columns\n",
    "\n",
    "datetime_columns = ['ScheduledDeparture' , 'ActualDeparture' , 'ScheduledArrival' , 'ActualArrival']\n",
    "\n",
    "for column in datetime_columns:\n",
    "    df[column] = df[column].astype(str).str.strip() \n",
    "    df[column] = pd.to_datetime(df[column], format='%Y-%m-%d %H:%M', errors='coerce')  \n",
    "    df[column] = df[column].dt.strftime('%H:%M')\n",
    "    df[column] = pd.to_datetime(df[column], format='%H:%M').dt.time\n",
    "\n",
    "print(\"shell executed!\")"
   ]
  },
  {
   "cell_type": "code",
   "execution_count": 17,
   "id": "6cbdab8d-0a55-4bc1-bb81-57cab8965b82",
   "metadata": {},
   "outputs": [
    {
     "data": {
      "text/html": [
       "<div>\n",
       "<style scoped>\n",
       "    .dataframe tbody tr th:only-of-type {\n",
       "        vertical-align: middle;\n",
       "    }\n",
       "\n",
       "    .dataframe tbody tr th {\n",
       "        vertical-align: top;\n",
       "    }\n",
       "\n",
       "    .dataframe thead th {\n",
       "        text-align: right;\n",
       "    }\n",
       "</style>\n",
       "<table border=\"1\" class=\"dataframe\">\n",
       "  <thead>\n",
       "    <tr style=\"text-align: right;\">\n",
       "      <th></th>\n",
       "      <th>Airline</th>\n",
       "      <th>FlightNumber</th>\n",
       "      <th>Origin</th>\n",
       "      <th>Destination</th>\n",
       "      <th>ScheduledDeparture</th>\n",
       "      <th>ActualDeparture</th>\n",
       "      <th>ScheduledArrival</th>\n",
       "      <th>ActualArrival</th>\n",
       "      <th>DelayMinutes</th>\n",
       "      <th>DelayReason</th>\n",
       "      <th>Cancelled</th>\n",
       "      <th>Diverted</th>\n",
       "      <th>AircraftType</th>\n",
       "      <th>TailNumber</th>\n",
       "      <th>Distance</th>\n",
       "    </tr>\n",
       "  </thead>\n",
       "  <tbody>\n",
       "    <tr>\n",
       "      <th>0</th>\n",
       "      <td>3</td>\n",
       "      <td>4558</td>\n",
       "      <td>4</td>\n",
       "      <td>2</td>\n",
       "      <td>08:11:00</td>\n",
       "      <td>08:30:00</td>\n",
       "      <td>12:11:00</td>\n",
       "      <td>12:19:00</td>\n",
       "      <td>8.0</td>\n",
       "      <td>2</td>\n",
       "      <td>1</td>\n",
       "      <td>0</td>\n",
       "      <td>1</td>\n",
       "      <td>N71066</td>\n",
       "      <td>1031.0</td>\n",
       "    </tr>\n",
       "    <tr>\n",
       "      <th>1</th>\n",
       "      <td>1</td>\n",
       "      <td>8021</td>\n",
       "      <td>3</td>\n",
       "      <td>2</td>\n",
       "      <td>10:25:00</td>\n",
       "      <td>10:41:00</td>\n",
       "      <td>13:25:00</td>\n",
       "      <td>13:27:00</td>\n",
       "      <td>2.0</td>\n",
       "      <td>0</td>\n",
       "      <td>1</td>\n",
       "      <td>1</td>\n",
       "      <td>0</td>\n",
       "      <td>N22657</td>\n",
       "      <td>1006.0</td>\n",
       "    </tr>\n",
       "    <tr>\n",
       "      <th>2</th>\n",
       "      <td>2</td>\n",
       "      <td>7520</td>\n",
       "      <td>1</td>\n",
       "      <td>4</td>\n",
       "      <td>16:53:00</td>\n",
       "      <td>17:05:00</td>\n",
       "      <td>17:53:00</td>\n",
       "      <td>18:07:00</td>\n",
       "      <td>14.0</td>\n",
       "      <td>2</td>\n",
       "      <td>1</td>\n",
       "      <td>1</td>\n",
       "      <td>1</td>\n",
       "      <td>N95611</td>\n",
       "      <td>2980.0</td>\n",
       "    </tr>\n",
       "    <tr>\n",
       "      <th>3</th>\n",
       "      <td>1</td>\n",
       "      <td>2046</td>\n",
       "      <td>4</td>\n",
       "      <td>0</td>\n",
       "      <td>14:44:00</td>\n",
       "      <td>15:04:00</td>\n",
       "      <td>18:44:00</td>\n",
       "      <td>18:34:00</td>\n",
       "      <td>-10.0</td>\n",
       "      <td>3</td>\n",
       "      <td>0</td>\n",
       "      <td>0</td>\n",
       "      <td>2</td>\n",
       "      <td>N90029</td>\n",
       "      <td>1408.0</td>\n",
       "    </tr>\n",
       "    <tr>\n",
       "      <th>4</th>\n",
       "      <td>1</td>\n",
       "      <td>6049</td>\n",
       "      <td>3</td>\n",
       "      <td>3</td>\n",
       "      <td>01:51:00</td>\n",
       "      <td>02:08:00</td>\n",
       "      <td>05:51:00</td>\n",
       "      <td>06:15:00</td>\n",
       "      <td>24.0</td>\n",
       "      <td>0</td>\n",
       "      <td>0</td>\n",
       "      <td>1</td>\n",
       "      <td>1</td>\n",
       "      <td>N27417</td>\n",
       "      <td>2298.0</td>\n",
       "    </tr>\n",
       "  </tbody>\n",
       "</table>\n",
       "</div>"
      ],
      "text/plain": [
       "   Airline  FlightNumber  Origin  Destination ScheduledDeparture  \\\n",
       "0        3          4558       4            2           08:11:00   \n",
       "1        1          8021       3            2           10:25:00   \n",
       "2        2          7520       1            4           16:53:00   \n",
       "3        1          2046       4            0           14:44:00   \n",
       "4        1          6049       3            3           01:51:00   \n",
       "\n",
       "  ActualDeparture ScheduledArrival ActualArrival DelayMinutes  DelayReason  \\\n",
       "0        08:30:00         12:11:00      12:19:00          8.0            2   \n",
       "1        10:41:00         13:25:00      13:27:00          2.0            0   \n",
       "2        17:05:00         17:53:00      18:07:00         14.0            2   \n",
       "3        15:04:00         18:44:00      18:34:00        -10.0            3   \n",
       "4        02:08:00         05:51:00      06:15:00         24.0            0   \n",
       "\n",
       "   Cancelled  Diverted  AircraftType TailNumber  Distance  \n",
       "0          1         0             1     N71066    1031.0  \n",
       "1          1         1             0     N22657    1006.0  \n",
       "2          1         1             1     N95611    2980.0  \n",
       "3          0         0             2     N90029    1408.0  \n",
       "4          0         1             1     N27417    2298.0  "
      ]
     },
     "execution_count": 17,
     "metadata": {},
     "output_type": "execute_result"
    }
   ],
   "source": [
    "df.head()"
   ]
  },
  {
   "cell_type": "code",
   "execution_count": 18,
   "id": "a63635e7-ee94-4043-b928-dad4190f2e74",
   "metadata": {},
   "outputs": [
    {
     "name": "stdout",
     "output_type": "stream",
     "text": [
      "shell executed\n"
     ]
    }
   ],
   "source": [
    "#convert datetime object into individual values\n",
    "\n",
    "for column in datetime_columns:\n",
    "    df[f'{column}_hour'] = df[column].apply(lambda x: x.hour)\n",
    "    df[f'{column}_minute'] = df[column].apply(lambda x: x.minute)\n",
    "    df.drop(column , axis=1, inplace=True)\n",
    "\n",
    "print(\"shell executed\")"
   ]
  },
  {
   "cell_type": "code",
   "execution_count": 19,
   "id": "9887fd13-0df4-43ba-b13b-529d7dc60e45",
   "metadata": {},
   "outputs": [
    {
     "name": "stdout",
     "output_type": "stream",
     "text": [
      "shell executed\n"
     ]
    }
   ],
   "source": [
    "#distance scaling\n",
    "\n",
    "from sklearn.preprocessing import StandardScaler\n",
    "\n",
    "scaler = StandardScaler()\n",
    "\n",
    "df[\"Distance\"] = scaler.fit_transform(df[[\"Distance\"]])\n",
    "print(\"shell executed\")"
   ]
  },
  {
   "cell_type": "code",
   "execution_count": 20,
   "id": "965ba88c-c967-486c-8ac1-c361d71f18cf",
   "metadata": {},
   "outputs": [
    {
     "data": {
      "text/html": [
       "<div>\n",
       "<style scoped>\n",
       "    .dataframe tbody tr th:only-of-type {\n",
       "        vertical-align: middle;\n",
       "    }\n",
       "\n",
       "    .dataframe tbody tr th {\n",
       "        vertical-align: top;\n",
       "    }\n",
       "\n",
       "    .dataframe thead th {\n",
       "        text-align: right;\n",
       "    }\n",
       "</style>\n",
       "<table border=\"1\" class=\"dataframe\">\n",
       "  <thead>\n",
       "    <tr style=\"text-align: right;\">\n",
       "      <th></th>\n",
       "      <th>Airline</th>\n",
       "      <th>Origin</th>\n",
       "      <th>Destination</th>\n",
       "      <th>DelayMinutes</th>\n",
       "      <th>DelayReason</th>\n",
       "      <th>Cancelled</th>\n",
       "      <th>Diverted</th>\n",
       "      <th>AircraftType</th>\n",
       "      <th>Distance</th>\n",
       "      <th>ScheduledDeparture_hour</th>\n",
       "      <th>ScheduledDeparture_minute</th>\n",
       "      <th>ActualDeparture_hour</th>\n",
       "      <th>ActualDeparture_minute</th>\n",
       "      <th>ScheduledArrival_hour</th>\n",
       "      <th>ScheduledArrival_minute</th>\n",
       "      <th>ActualArrival_hour</th>\n",
       "      <th>ActualArrival_minute</th>\n",
       "    </tr>\n",
       "  </thead>\n",
       "  <tbody>\n",
       "    <tr>\n",
       "      <th>0</th>\n",
       "      <td>3</td>\n",
       "      <td>4</td>\n",
       "      <td>2</td>\n",
       "      <td>8.0</td>\n",
       "      <td>2</td>\n",
       "      <td>1</td>\n",
       "      <td>0</td>\n",
       "      <td>1</td>\n",
       "      <td>-0.621995</td>\n",
       "      <td>8</td>\n",
       "      <td>11</td>\n",
       "      <td>8</td>\n",
       "      <td>30</td>\n",
       "      <td>12</td>\n",
       "      <td>11</td>\n",
       "      <td>12</td>\n",
       "      <td>19</td>\n",
       "    </tr>\n",
       "    <tr>\n",
       "      <th>1</th>\n",
       "      <td>1</td>\n",
       "      <td>3</td>\n",
       "      <td>2</td>\n",
       "      <td>2.0</td>\n",
       "      <td>0</td>\n",
       "      <td>1</td>\n",
       "      <td>1</td>\n",
       "      <td>0</td>\n",
       "      <td>-0.651883</td>\n",
       "      <td>10</td>\n",
       "      <td>25</td>\n",
       "      <td>10</td>\n",
       "      <td>41</td>\n",
       "      <td>13</td>\n",
       "      <td>25</td>\n",
       "      <td>13</td>\n",
       "      <td>27</td>\n",
       "    </tr>\n",
       "    <tr>\n",
       "      <th>2</th>\n",
       "      <td>2</td>\n",
       "      <td>1</td>\n",
       "      <td>4</td>\n",
       "      <td>14.0</td>\n",
       "      <td>2</td>\n",
       "      <td>1</td>\n",
       "      <td>1</td>\n",
       "      <td>1</td>\n",
       "      <td>1.708056</td>\n",
       "      <td>16</td>\n",
       "      <td>53</td>\n",
       "      <td>17</td>\n",
       "      <td>5</td>\n",
       "      <td>17</td>\n",
       "      <td>53</td>\n",
       "      <td>18</td>\n",
       "      <td>7</td>\n",
       "    </tr>\n",
       "    <tr>\n",
       "      <th>3</th>\n",
       "      <td>1</td>\n",
       "      <td>4</td>\n",
       "      <td>0</td>\n",
       "      <td>-10.0</td>\n",
       "      <td>3</td>\n",
       "      <td>0</td>\n",
       "      <td>0</td>\n",
       "      <td>2</td>\n",
       "      <td>-0.171287</td>\n",
       "      <td>14</td>\n",
       "      <td>44</td>\n",
       "      <td>15</td>\n",
       "      <td>4</td>\n",
       "      <td>18</td>\n",
       "      <td>44</td>\n",
       "      <td>18</td>\n",
       "      <td>34</td>\n",
       "    </tr>\n",
       "    <tr>\n",
       "      <th>4</th>\n",
       "      <td>1</td>\n",
       "      <td>3</td>\n",
       "      <td>3</td>\n",
       "      <td>24.0</td>\n",
       "      <td>0</td>\n",
       "      <td>0</td>\n",
       "      <td>1</td>\n",
       "      <td>1</td>\n",
       "      <td>0.892718</td>\n",
       "      <td>1</td>\n",
       "      <td>51</td>\n",
       "      <td>2</td>\n",
       "      <td>8</td>\n",
       "      <td>5</td>\n",
       "      <td>51</td>\n",
       "      <td>6</td>\n",
       "      <td>15</td>\n",
       "    </tr>\n",
       "  </tbody>\n",
       "</table>\n",
       "</div>"
      ],
      "text/plain": [
       "   Airline  Origin  Destination DelayMinutes  DelayReason  Cancelled  \\\n",
       "0        3       4            2          8.0            2          1   \n",
       "1        1       3            2          2.0            0          1   \n",
       "2        2       1            4         14.0            2          1   \n",
       "3        1       4            0        -10.0            3          0   \n",
       "4        1       3            3         24.0            0          0   \n",
       "\n",
       "   Diverted  AircraftType  Distance  ScheduledDeparture_hour  \\\n",
       "0         0             1 -0.621995                        8   \n",
       "1         1             0 -0.651883                       10   \n",
       "2         1             1  1.708056                       16   \n",
       "3         0             2 -0.171287                       14   \n",
       "4         1             1  0.892718                        1   \n",
       "\n",
       "   ScheduledDeparture_minute  ActualDeparture_hour  ActualDeparture_minute  \\\n",
       "0                         11                     8                      30   \n",
       "1                         25                    10                      41   \n",
       "2                         53                    17                       5   \n",
       "3                         44                    15                       4   \n",
       "4                         51                     2                       8   \n",
       "\n",
       "   ScheduledArrival_hour  ScheduledArrival_minute  ActualArrival_hour  \\\n",
       "0                     12                       11                  12   \n",
       "1                     13                       25                  13   \n",
       "2                     17                       53                  18   \n",
       "3                     18                       44                  18   \n",
       "4                      5                       51                   6   \n",
       "\n",
       "   ActualArrival_minute  \n",
       "0                    19  \n",
       "1                    27  \n",
       "2                     7  \n",
       "3                    34  \n",
       "4                    15  "
      ]
     },
     "execution_count": 20,
     "metadata": {},
     "output_type": "execute_result"
    }
   ],
   "source": [
    "df.drop(['FlightNumber' , 'TailNumber'] , axis=1 , inplace=True)\n",
    "df.head()"
   ]
  },
  {
   "cell_type": "code",
   "execution_count": 21,
   "id": "742e45f8-faf8-4488-afb1-c6f31584acbc",
   "metadata": {},
   "outputs": [
    {
     "data": {
      "text/plain": [
       "((724944, 15), (724944,))"
      ]
     },
     "execution_count": 21,
     "metadata": {},
     "output_type": "execute_result"
    }
   ],
   "source": [
    "#split the data into X and y\n",
    "\n",
    "X = df.drop(['DelayMinutes' , 'Cancelled'] , axis=1)\n",
    "y = df['Cancelled']\n",
    "\n",
    "X.shape , y.shape"
   ]
  },
  {
   "cell_type": "code",
   "execution_count": 22,
   "id": "a40a7313-e1c0-4059-a89a-db26e0c2cd29",
   "metadata": {},
   "outputs": [
    {
     "name": "stdout",
     "output_type": "stream",
     "text": [
      "Shape of Training Dataset : (579955, 15) (579955,)\n",
      "Shape of Testing  Dataset : (144989, 15) (144989,)\n"
     ]
    }
   ],
   "source": [
    "#split the data into 80 and 20 format\n",
    "\n",
    "from sklearn.model_selection import train_test_split\n",
    "\n",
    "X_train , X_test , y_train , y_test = train_test_split(X , y , test_size = 0.2)\n",
    "\n",
    "print(\"Shape of Training Dataset :\" , X_train.shape , y_train.shape)\n",
    "print(\"Shape of Testing  Dataset :\" , X_test.shape , y_test.shape)"
   ]
  },
  {
   "cell_type": "code",
   "execution_count": 25,
   "id": "12999324-5034-4f2d-90ad-450b22691f51",
   "metadata": {},
   "outputs": [],
   "source": [
    "#training models"
   ]
  },
  {
   "cell_type": "code",
   "execution_count": null,
   "id": "37a078df-c17c-4138-a9d9-ec4245d74f95",
   "metadata": {},
   "outputs": [],
   "source": []
  },
  {
   "cell_type": "code",
   "execution_count": null,
   "id": "adf19342-292a-4c98-b005-dd15513b640e",
   "metadata": {},
   "outputs": [],
   "source": []
  },
  {
   "cell_type": "code",
   "execution_count": 23,
   "id": "21499dca-60c6-488a-ab9e-1ba9be6df5b4",
   "metadata": {},
   "outputs": [],
   "source": [
    "#Suppot vector machine\n",
    "\n",
    "from sklearn.svm import LinearSVC\n",
    "svm_model = LinearSVC()"
   ]
  },
  {
   "cell_type": "code",
   "execution_count": 24,
   "id": "ddf64d49-69a6-4d55-80f4-c1c3176ee581",
   "metadata": {},
   "outputs": [
    {
     "name": "stdout",
     "output_type": "stream",
     "text": [
      "model trained\n"
     ]
    }
   ],
   "source": [
    "#train the model\n",
    "\n",
    "svm_model.fit(X_train , y_train)\n",
    "print(\"model trained\")"
   ]
  },
  {
   "cell_type": "code",
   "execution_count": 25,
   "id": "07181c56-a946-43a0-9898-39a8f08f2308",
   "metadata": {},
   "outputs": [
    {
     "name": "stdout",
     "output_type": "stream",
     "text": [
      "shell executed\n"
     ]
    }
   ],
   "source": [
    "#predict the values\n",
    "\n",
    "svm_y_pred = svm_model.predict(X_test)\n",
    "print(\"shell executed\")"
   ]
  },
  {
   "cell_type": "code",
   "execution_count": 27,
   "id": "e2948c66-f0d2-497b-81a3-e34c94301b90",
   "metadata": {},
   "outputs": [
    {
     "name": "stdout",
     "output_type": "stream",
     "text": [
      "Precision Score FP(I) : 0.498657330296747\n",
      "Recall    Score FN(I) : 0.6091602419477625\n",
      "F1        Score       : 0.5483975477246673\n"
     ]
    }
   ],
   "source": [
    "#support vector machine metrics \n",
    "\n",
    "from sklearn.metrics import f1_score , recall_score , precision_score \n",
    "\n",
    "svm_precision = precision_score(y_test , svm_y_pred)\n",
    "svm_recall = recall_score(y_test , svm_y_pred)\n",
    "svm_f1 = f1_score(y_test , svm_y_pred)\n",
    "\n",
    "print(\"Precision Score FP(I) :\" , svm_precision)\n",
    "print(\"Recall    Score FN(I) :\" , svm_recall)\n",
    "print(\"F1        Score       :\" , svm_f1)"
   ]
  },
  {
   "cell_type": "code",
   "execution_count": null,
   "id": "bb73e24d-2f51-4449-b808-0bf1a5fe3c3b",
   "metadata": {},
   "outputs": [],
   "source": []
  },
  {
   "cell_type": "code",
   "execution_count": null,
   "id": "115da494-c0c7-429a-b8a8-da3e2bfb87c5",
   "metadata": {},
   "outputs": [],
   "source": []
  },
  {
   "cell_type": "code",
   "execution_count": 28,
   "id": "555c29c4-6056-4cf2-a912-47f8bbfd30f7",
   "metadata": {},
   "outputs": [],
   "source": [
    "#random forest algorithm\n",
    "\n",
    "from sklearn.ensemble import RandomForestClassifier\n",
    "\n",
    "rf_model = RandomForestClassifier()"
   ]
  },
  {
   "cell_type": "code",
   "execution_count": 29,
   "id": "09e0d5cc-afa7-4f4a-976e-ba6447d99ff1",
   "metadata": {},
   "outputs": [
    {
     "name": "stdout",
     "output_type": "stream",
     "text": [
      "model trained\n"
     ]
    }
   ],
   "source": [
    "#train the model\n",
    "\n",
    "rf_model.fit(X_train , y_train)\n",
    "print(\"model trained\")"
   ]
  },
  {
   "cell_type": "code",
   "execution_count": 30,
   "id": "daa4d22e-441e-48e4-a090-6d16050961e9",
   "metadata": {},
   "outputs": [],
   "source": [
    "#predict the values\n",
    "\n",
    "rf_y_pred = rf_model.predict(X_test)"
   ]
  },
  {
   "cell_type": "code",
   "execution_count": 31,
   "id": "ddc19278-8962-4aa0-b8ba-2326f4cd0d0a",
   "metadata": {},
   "outputs": [
    {
     "name": "stdout",
     "output_type": "stream",
     "text": [
      "Precision Score FP(I) : 0.4963489874428395\n",
      "Recall    Score FN(I) : 0.4732514844907055\n",
      "F1        Score       : 0.48452512541450554\n"
     ]
    }
   ],
   "source": [
    "#Random Forest metrics \n",
    "\n",
    "from sklearn.metrics import f1_score , recall_score , precision_score\n",
    "\n",
    "rf_precision = precision_score(y_test , rf_y_pred)\n",
    "rf_recall = recall_score(y_test , rf_y_pred)\n",
    "rf_f1 = f1_score(y_test , rf_y_pred)\n",
    "\n",
    "print(\"Precision Score FP(I) :\" , rf_precision)\n",
    "print(\"Recall    Score FN(I) :\" , rf_recall)\n",
    "print(\"F1        Score       :\" , rf_f1)"
   ]
  },
  {
   "cell_type": "code",
   "execution_count": null,
   "id": "44a3b0ab-6460-4481-b8be-97e7706e7a04",
   "metadata": {},
   "outputs": [],
   "source": []
  }
 ],
 "metadata": {
  "kernelspec": {
   "display_name": "Python 3 (ipykernel)",
   "language": "python",
   "name": "python3"
  },
  "language_info": {
   "codemirror_mode": {
    "name": "ipython",
    "version": 3
   },
   "file_extension": ".py",
   "mimetype": "text/x-python",
   "name": "python",
   "nbconvert_exporter": "python",
   "pygments_lexer": "ipython3",
   "version": "3.12.9"
  }
 },
 "nbformat": 4,
 "nbformat_minor": 5
}
